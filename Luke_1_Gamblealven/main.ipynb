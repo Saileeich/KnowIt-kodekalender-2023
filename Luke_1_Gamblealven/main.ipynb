{
 "cells": [
  {
   "cell_type": "markdown",
   "metadata": {},
   "source": [
    "# Gamblealven\n",
    "### *Av Gaute Rauboti*\n",
    "\n",
    "Alvmalie er ansvarlig for polkagrisene og sukkerstengene til nissen. Hvert år brukes det mange polkagriser i julestrømper rundt om i verden, i tillegg til sukkerstenger som også brukes til å pynte både juleverkstedet og huset til nissen. Alvmalie elsker sukkerstenger, og synes det skal være mange av dem - overalt. Så når hun oppdager at det lokale bettingselskapet på Nordpolen, NorthPoleInOne, godtar innsats i sukkerstenger, får hun en idè til å øke antall sukkerstenger fra de 50 000 hun har.\n",
    "\n",
    "Alvmalie er nemlig også veldig fotballinteressert, og fikk med seg at Alvin Braut Fortann byttet klubb fra Borussia Weinachtsbaum til Reinchester City. Og da tok planen hennes form. Hun ville satse sukkerstenger på hvor mange mål Alvin scoret, og på den måten fylle opp lageret. Fordi hun ville være på den sikre siden, satte hun opp 2 regler hun alltid ville følge:\n",
    "\n",
    ">Hun satset alltid 17,5 % av det hun til enhver tid hadde, rundet av til nærmeste heltall (0.49 = 0, 0.50 = 1)\n",
    "\n",
    ">Hun satset alltid på minst hvor mange mål Braut Fortann scoret i alle kampene den sesongen. Dvs at hvis hun satset på 2 mål, ville hun vinne hvis Fortann scoret 2 eller flere mål, men tape hvis Fortann scoret 0 eller 1 mål.\n",
    "\n",
    "NorthPoleInOne bestemte oddsen, basert på hvor mange mål Alvmalie var villig til å tippe på, så jo flere mål hun tippet at Braut Fortann skulle score, jo høyere ville en potensiell gevinst bli. Eventuell gevinst ble utbetalt hver runde, rundet av til nærmeste heltall.\n",
    "\n",
    "Når julaften nærmet seg, skulle nissen hente ut alle sukkerstengene, og oppdaget at det var veldig mange færre enn antatt. Han spurte Alvmalie, som tilstod med en gang. Julenissen trenger nå å vite hvor mange ekstra sukkerstenger som må produseres for å få riktig antall til dekorasjonene. Han har følgende ledetråder:\n",
    "\n",
    "Oversikt over antall mål Fortann scoret i hver kamp\n",
    "Oversikt over antall mål Alvmalie gjettet på, og hvilken odds NorthPoleInOne ga henne for antallet hun gjettet på\n",
    "Hvor mange sukkerstenger har Alvmalie tapt?"
   ]
  },
  {
   "cell_type": "code",
   "execution_count": 56,
   "metadata": {},
   "outputs": [],
   "source": [
    "import json"
   ]
  },
  {
   "cell_type": "code",
   "execution_count": 57,
   "metadata": {},
   "outputs": [],
   "source": [
    "antall_sukkerstenger = 50000\n",
    "\n",
    "satsinger = json.load(open(\"./bets.txt\", \"r\"))\n",
    "\n",
    "mål = open(\"./goals.txt\", \"r\").read().split(\",\")"
   ]
  },
  {
   "cell_type": "code",
   "execution_count": 58,
   "metadata": {},
   "outputs": [],
   "source": [
    "def vedd(sukkerstenger, sats, resultat):\n",
    "    if (int(sats[0]) <= int(resultat)):\n",
    "        # Vinn\n",
    "        return round(sukkerstenger * sats[1])\n",
    "    else:\n",
    "        # Tap\n",
    "        return -sukkerstenger"
   ]
  },
  {
   "cell_type": "code",
   "execution_count": 59,
   "metadata": {},
   "outputs": [
    {
     "name": "stdout",
     "output_type": "stream",
     "text": [
      "37196\n"
     ]
    }
   ],
   "source": [
    "for i in range(len(satsinger)):\n",
    "    antall_sukkerstenger += vedd(round(antall_sukkerstenger*0.175), satsinger[i], mål[i])\n",
    "print(50000-antall_sukkerstenger)"
   ]
  }
 ],
 "metadata": {
  "kernelspec": {
   "display_name": "Python 3",
   "language": "python",
   "name": "python3"
  },
  "language_info": {
   "codemirror_mode": {
    "name": "ipython",
    "version": 3
   },
   "file_extension": ".py",
   "mimetype": "text/x-python",
   "name": "python",
   "nbconvert_exporter": "python",
   "pygments_lexer": "ipython3",
   "version": "3.11.1"
  }
 },
 "nbformat": 4,
 "nbformat_minor": 2
}
