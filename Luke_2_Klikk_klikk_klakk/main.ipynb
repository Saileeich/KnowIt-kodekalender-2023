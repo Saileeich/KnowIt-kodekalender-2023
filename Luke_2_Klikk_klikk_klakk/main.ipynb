{
 "cells": [
  {
   "cell_type": "markdown",
   "metadata": {},
   "source": [
    "# Klikk klikk klakk\n",
    "### *Av Sverre Johann Bjørke*\n",
    "\n",
    "På fritida driv alven Alfred med låssport, kompetativ dirking av låsar. Han har kjøpt inn ein stor mengde låsar og prøvar å løyse alle så fort som råd. Kvar lås har 7 låsestifter i sylinderen. Alle stiftene startar i låst posisjon. Når han dirkar kan han anten få løfta ein av stiftene i låsen opp i ulåst posisjon med eit tilfredsstillande klikk, eller så kan ein allereide løfta stift falle ned i låst posisjon med eit demotiverande klakk.\n",
    "\n",
    "## Oppgåve\n",
    "På fritida driv alven Alfred med låssport, kompetativ dirking av låsar. Han har kjøpt inn ein stor mengde låsar og prøvar å løyse alle så fort som råd. Kvar lås har 7 låsestifter i sylinderen. Alle stiftene startar i låst posisjon. Når han dirkar kan han anten få løfta ein av stiftene i låsen opp i ulåst posisjon med eit tilfredsstillande klikk, eller så kan ein allereide løfta stift falle ned i låst posisjon med eit demotiverande klakk."
   ]
  },
  {
   "cell_type": "code",
   "execution_count": 30,
   "metadata": {},
   "outputs": [],
   "source": [
    "lyder = []\n",
    "låsestifter = []\n",
    "\n",
    "data = open(\"log.txt\", \"r\").read().split(\", \")\n",
    "for i in data:\n",
    "    lyder.append(i[0:5])\n",
    "    låsestifter.append((int(i[len(i)-1:len(i)-2:-1]) - 1))"
   ]
  },
  {
   "cell_type": "code",
   "execution_count": 32,
   "metadata": {},
   "outputs": [
    {
     "name": "stdout",
     "output_type": "stream",
     "text": [
      "Alfred låser opp 393 låser tilsammen!\n"
     ]
    }
   ],
   "source": [
    "lås = [False, False, False, False, False, False, False]\n",
    "antall_løste_låser = 0\n",
    "for i in range(len(lyder)):\n",
    "    if lyder[i] == \"klikk\":\n",
    "        # lås opp låsestift\n",
    "        lås[låsestifter[i]] = True\n",
    "    else:\n",
    "        # lås låsestift\n",
    "        lås[låsestifter[i]] = False\n",
    "    \n",
    "    if False not in lås:\n",
    "        # låsen er løst\n",
    "        lås = [False, False, False, False, False, False, False]\n",
    "        antall_løste_låser += 1\n",
    "    \n",
    "print(f\"Alfred låser opp {antall_løste_låser} låser tilsammen!\")"
   ]
  }
 ],
 "metadata": {
  "kernelspec": {
   "display_name": "Python 3",
   "language": "python",
   "name": "python3"
  },
  "language_info": {
   "codemirror_mode": {
    "name": "ipython",
    "version": 3
   },
   "file_extension": ".py",
   "mimetype": "text/x-python",
   "name": "python",
   "nbconvert_exporter": "python",
   "pygments_lexer": "ipython3",
   "version": "3.11.1"
  }
 },
 "nbformat": 4,
 "nbformat_minor": 2
}
