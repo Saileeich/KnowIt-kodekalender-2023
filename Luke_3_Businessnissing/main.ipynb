{
 "cells": [
  {
   "cell_type": "markdown",
   "metadata": {},
   "source": [
    "# Businessnissing\n",
    "### *Av Sverre Johann Bjørke*\n",
    "\n",
    "For å finansisere verksemda si som kvasi-guddommeleg gåveutdeler og absolutt dommer av snill og slem har Julenissen sett seg nødt til å spe på inntekta. Han har spart opp kapital og har byrja med aksjehandel. Aksjen han har sett seg ut, Foobar IT AS, er svært volatil, og svingar veldig frå time til time. Heldigvis er Nissen ein skarping (og har moglegens klarsyn som ein av evnane sine) og nyttar dette til å maksimere profitt.\n",
    "\n",
    "## Oppgåve\n",
    "Nissen startar med 200 000 NOK. Kvar dag kjøpar han så mange aksjar han har råd til, og sel alle saman før dagen er over. Han avsluttar altså alle dagar med 0 aksjar, og han kan kun kjøpe og selje ein gang pr dag. Nissen må kjøpe og selge kvar dag, men han gjer alltid den optimale handelen.\n",
    "\n",
    "I denne fila viser kvar linje aksjekursen time for time så lenge børsen er open for ein gitt dag. Kor mykje pengar sit nissen att med når månaden er over?\n",
    "\n",
    "## Døme\n",
    "For desse tre dagane, og med ein startkapital på 1 000 kroner sit Julenissen att med 14 795 kroner.\n",
    "\n",
    ">112,85,65,192,172,213  \n",
    "\n",
    ">165,146,188,102,119,156  \n",
    "\n",
    ">123,187,92,71,208,148  "
   ]
  },
  {
   "cell_type": "code",
   "execution_count": 53,
   "metadata": {},
   "outputs": [],
   "source": [
    "import numpy as np"
   ]
  },
  {
   "cell_type": "code",
   "execution_count": 54,
   "metadata": {},
   "outputs": [],
   "source": [
    "verdier = []\n",
    "\n",
    "with open(\"input.txt\", \"r\") as file:\n",
    "    for line in file:\n",
    "        array = [eval(i) for i in line.split(\",\")]\n",
    "        a = []\n",
    "        maks_penger = []\n",
    "        intervall = []\n",
    "        for i in array[::-1]:\n",
    "            forskjell = []\n",
    "            for j in a:\n",
    "                forskjell.append(j-i)\n",
    "            a.append(i)\n",
    "            try:\n",
    "                maks_penger.append(np.max(forskjell))\n",
    "                intervall.append([5-len(forskjell), 5-forskjell.index(np.max(forskjell))])\n",
    "            except:\n",
    "                pass\n",
    "        verdier.append([array, maks_penger, intervall])"
   ]
  },
  {
   "cell_type": "code",
   "execution_count": 55,
   "metadata": {},
   "outputs": [
    {
     "name": "stdout",
     "output_type": "stream",
     "text": [
      "Nissen sitter igjen med 4536319363554735560NOK ved slutten av måneden.\n"
     ]
    }
   ],
   "source": [
    "penger = 200000 # Nissen starter med 200 000NOK\n",
    "\n",
    "for i in verdier:\n",
    "    index = i[1].index(np.max(i[1]))\n",
    "    intervall = i[2][index]\n",
    "    startpris = i[0][intervall[0]]\n",
    "    sluttpris = i[0][intervall[1]]\n",
    "\n",
    "    aksjeverdi = (penger//startpris) * sluttpris\n",
    "    penger = (penger%startpris) + aksjeverdi\n",
    "\n",
    "print(f\"Nissen sitter igjen med {penger}NOK ved slutten av måneden.\")"
   ]
  }
 ],
 "metadata": {
  "kernelspec": {
   "display_name": "Python 3",
   "language": "python",
   "name": "python3"
  },
  "language_info": {
   "codemirror_mode": {
    "name": "ipython",
    "version": 3
   },
   "file_extension": ".py",
   "mimetype": "text/x-python",
   "name": "python",
   "nbconvert_exporter": "python",
   "pygments_lexer": "ipython3",
   "version": "3.11.1"
  }
 },
 "nbformat": 4,
 "nbformat_minor": 2
}
