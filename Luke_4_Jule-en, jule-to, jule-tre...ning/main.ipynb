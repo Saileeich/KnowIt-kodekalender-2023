{
 "cells": [
  {
   "cell_type": "markdown",
   "metadata": {},
   "source": [
    "# Jule-en, jule-to, jule-tre...ning?\n",
    "### *Av Sverre Johann Bjørke*\n",
    "\n",
    "For å førebu seg på høgtida har Julenissen lagt seg i hardtrening det siste året. Han har blant anna gjort mange situps, og har loggført kor mange repitisjonar han klarte for kvar treningsøkt i denne fila. Nokon økter er betre enn andre, men det som er viktig for Julenissen er å klare fleire enn forrige trening.\n",
    "\n",
    "## Oppgåve\n",
    "Kor mange repitisjonar gjer Julenissen totalt i den lengste rekka av treningar der han klarer fleire repitisjonar enn dagen før? Om det er meir enn ein sekvens som kan vere mogleg svar ser vi etter den med størst sum.\n",
    "\n",
    "## Døme\n",
    "For øktene \n",
    "```\n",
    "133, 266, 174, 295, 228, 257, 75, 41, 370, 125, 188, 284, 301, 219, 276, 134, 315, 190, 183, 381, 12, 351, 384, 151, 255, 231, 232, 205, 95, 0, 97\n",
    "```\n",
    "ser vi at den lengste rekka med stigane repitisjonar er ```125, 188, 284, 301``` som er totalt 898 repitisjonar."
   ]
  },
  {
   "cell_type": "code",
   "execution_count": 41,
   "metadata": {},
   "outputs": [
    {
     "name": "stdout",
     "output_type": "stream",
     "text": [
      "Nissen repper 969 reps i løpet av den lengste streaken sin med økende antall reps per dag på 5 dager!\n"
     ]
    }
   ],
   "source": [
    "with open(\"reps.txt\", \"r\") as f:\n",
    "    maks_rekke = 0\n",
    "    maks_sum = 0\n",
    "    rekke = 0\n",
    "    sum = 0\n",
    "    forrige_rep = 0\n",
    "    reps = f.read().split(',')\n",
    "    for i in range(len(reps)):\n",
    "        rep = int(reps[i])\n",
    "        if rep > int(reps[i-1]):\n",
    "            rekke += 1\n",
    "            sum += rep\n",
    "        else:\n",
    "            rekke = 0\n",
    "            sum = rep\n",
    "        if rekke > maks_rekke:\n",
    "            maks_rekke = rekke\n",
    "            maks_sum = sum\n",
    "    print(f\"Nissen repper {maks_sum} reps i løpet av den lengste streaken sin med økende antall reps per dag på {maks_rekke} dager!\")"
   ]
  }
 ],
 "metadata": {
  "kernelspec": {
   "display_name": "Python 3",
   "language": "python",
   "name": "python3"
  },
  "language_info": {
   "codemirror_mode": {
    "name": "ipython",
    "version": 3
   },
   "file_extension": ".py",
   "mimetype": "text/x-python",
   "name": "python",
   "nbconvert_exporter": "python",
   "pygments_lexer": "ipython3",
   "version": "3.10.11"
  }
 },
 "nbformat": 4,
 "nbformat_minor": 2
}
