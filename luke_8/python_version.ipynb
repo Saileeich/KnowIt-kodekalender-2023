{
 "cells": [
  {
   "cell_type": "markdown",
   "metadata": {},
   "source": [
    "# Historisk mail-bommert\n",
    "### Av *Kristian Stamland*\n",
    "\n",
    "Å nei! Historikkeralven klarte ved et uhell å åpne opp en ondsinnet .pdf-fil på e-mailen sin, og diktet han var i ferd med å levere til Julenissen har blitt kryptert.\n",
    "\n",
    "Heldigvis har hackerene som sendte PDF-filen vært uvarsomme nok til å ikke slette nøkkelfilen, så cyberalvene tror de har mulighet til å dekryptere diktet. De er litt usikre på nøyaktig hvordan filen er kryptert, men det ser ut som om nøkkelfilen inneholder lister med tall som går fra 0-28 og er nøyaktig 29 elementer lang. Det kan også virke som om , og linjeneskiftene er ivaretatt.\n",
    "\n",
    "Cyberalvene antar at dersom man har nøkkelen\n",
    "\n",
    ">   a   b   c  d   e   f  g   h  i   j  k  l   m  n   o   p  q   r   s   t  u   v   w  x   y  z   æ   ø   å\n",
    "\n",
    "> [15, 23, 21, 5, 11, 26, 8, 20, 6, 28, 2, 7, 19, 3, 22, 14, 24, 1, 18, 13, 4, 12, 27, 0, 17, 9, 25, 16, 10]\n",
    "Vil ordet \"Jul\" bli til \"åeh\".\n",
    "\n",
    "Visualisering av nøkkelkorrespondans:\n",
    "\n",
    ">   a   b   c  d   e   f  g   h  i   j  k  l   m  n   o   p  q   r   s   t  u   v   w  x   y  z   æ   ø   å\n",
    "\n",
    "> [ p,  x,  v, f,  l,  æ, i,  u, g,  å, c, h,  t, d,  w,  o,  y, b,  s,  n, e,  m,  ø, a,  r, j,  z,  q,  k]\n"
   ]
  },
  {
   "cell_type": "code",
   "execution_count": 22,
   "metadata": {},
   "outputs": [],
   "source": [
    "def decrypt(nøkkel, streng):\n",
    "    answer = \"\"\n",
    "    alfabet = \"abcdefghijklmnopqrstuvwxyzæøå\"\n",
    "    for c in streng:\n",
    "        if c in alfabet:\n",
    "            index = nøkkel.index(str(alfabet.index(c)))\n",
    "            answer += alfabet[index]\n",
    "        else:\n",
    "            answer += c\n",
    "\n",
    "    return answer"
   ]
  },
  {
   "cell_type": "code",
   "execution_count": 23,
   "metadata": {},
   "outputs": [],
   "source": [
    "ord = []\n",
    "with open(\"cypher.txt\", \"r\", encoding=\"utf-8\") as fil:\n",
    "    ufil_ord = []\n",
    "    for linje in fil:\n",
    "        for mid_ord in linje.split(\" \"):\n",
    "            ufil_ord.append(mid_ord)\n",
    "    for mid_ord in ufil_ord:\n",
    "        hol_stre = mid_ord\n",
    "        if \"\\n\" in hol_stre:\n",
    "            hol_stre = hol_stre.replace(\"\\n\", \"\")\n",
    "            if len(hol_stre) == 0:\n",
    "                continue\n",
    "        ord.append(hol_stre)"
   ]
  },
  {
   "cell_type": "code",
   "execution_count": 24,
   "metadata": {},
   "outputs": [],
   "source": [
    "nøkler = []\n",
    "with open(\"input.txt\", \"r\") as fil:\n",
    "    for linje in fil:\n",
    "        nøkler.append(linje[1:len(linje)-2:1].split(\", \"))"
   ]
  },
  {
   "cell_type": "code",
   "execution_count": 26,
   "metadata": {},
   "outputs": [
    {
     "name": "stdout",
     "output_type": "stream",
     "text": [
      "julenissen gikk en tur i nordpolens vakre daler der møtte han noen fine dyr, med veldig korte haler han hoppet opp i gledens dans, og hilste blidt på dem og flyvende, de kom dit hen, med gevir på hodets lem slik var det nissen fant reinets dyr og vant sin store glede og livet har siden vært et eventyr for nå flyr de julens store slede om ikke annet skal bli sagt har alle parter gleden hatt for julenissen deler godt med mat som gives bort til reinsdyrs fat nå er vårt dikt ved veiens ende men gled deg, for du er vår venn julen kommer snart til å hende og nissen giver gaver nok igjen løsningen er første bokstav i hver linje satt sammen, uten mellomrom, inkludert denne \n"
     ]
    }
   ],
   "source": [
    "løsningsstreng = \"\"\n",
    "for i in range(len(nøkler)):\n",
    "    løsningsstreng += decrypt(nøkler[i], ord[i])\n",
    "    løsningsstreng += \" \"\n",
    "print(løsningsstreng)"
   ]
  },
  {
   "cell_type": "markdown",
   "metadata": {},
   "source": [
    "julenissen gikk en tur i nordpolens vakre daler\n",
    "der møtte han noen fine dyr, med veldig korte haler\n",
    "han hoppet opp i gledens dans, og hilste blidt på dem\n",
    "og flyvende, de kom dit hen, med gevir på hodets lem\n",
    "\n",
    "slik var det nissen fant reinets dyr\n",
    "og vant sin store glede\n",
    "og livet har siden vært et eventyr\n",
    "for nå flyr de julens store slede\n",
    "\n",
    "om ikke annet skal bli sagt\n",
    "har alle parter gleden hatt\n",
    "for julenissen deler godt med mat\n",
    "som gives bort til reinsdyrs fat\n",
    "\n",
    "nå er vårt dikt ved veiens ende\n",
    "men gled deg, for du er vår venn\n",
    "julen kommer snart til å hende\n",
    "og nissen giver gaver nok igjen\n",
    "\n",
    "løsningen er første bokstav i hver linje satt sammen, uten mellomrom, inkludert denne\n",
    "\n",
    "### Løsning:\n",
    "> jdhosoofohfsnmjol"
   ]
  }
 ],
 "metadata": {
  "kernelspec": {
   "display_name": "Python 3",
   "language": "python",
   "name": "python3"
  },
  "language_info": {
   "codemirror_mode": {
    "name": "ipython",
    "version": 3
   },
   "file_extension": ".py",
   "mimetype": "text/x-python",
   "name": "python",
   "nbconvert_exporter": "python",
   "pygments_lexer": "ipython3",
   "version": "3.11.1"
  }
 },
 "nbformat": 4,
 "nbformat_minor": 2
}
